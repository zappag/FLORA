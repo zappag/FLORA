{
 "cells": [
  {
   "cell_type": "code",
   "execution_count": 20,
   "metadata": {},
   "outputs": [],
   "source": [
    "import xarray as xr\n",
    "import geopandas as gpd\n",
    "import os\n",
    "import matplotlib.pyplot as plt\n",
    "from shapely.geometry import Point\n",
    "import rasterio\n",
    "from rasterio.features import geometry_mask\n",
    "import rioxarray\n",
    "import cartopy.crs as ccrs\n"
   ]
  },
  {
   "cell_type": "markdown",
   "metadata": {},
   "source": [
    "### Read EFAS regional lat/lon"
   ]
  },
  {
   "cell_type": "code",
   "execution_count": 21,
   "metadata": {},
   "outputs": [],
   "source": [
    "# SORT OF USER CONFIGURATION\n",
    "EFASDIR_HIST=\"/home/zappa/work_big/EFAS\"\n",
    "\n",
    "# Name Pattern of EFAS data, * reflects different years\n",
    "fname_pat=f\"{EFASDIR_HIST}/output/day/efas_panaro_*.nc\"\n",
    "#fname_pat=f\"{EFASDIR_HIST}/output/6h/efas_italy_2020.nc\"\n",
    "ds = xr.open_mfdataset(fname_pat, combine='by_coords')\n",
    "\n",
    "# starting and last year to be analysed\n",
    "sy=1992\n",
    "ly=2023\n",
    "\n"
   ]
  },
  {
   "cell_type": "code",
   "execution_count": null,
   "metadata": {},
   "outputs": [],
   "source": []
  },
  {
   "cell_type": "markdown",
   "metadata": {},
   "source": [
    "### Read watershed shape files"
   ]
  },
  {
   "cell_type": "code",
   "execution_count": 22,
   "metadata": {},
   "outputs": [],
   "source": [
    "hape_dir=\"/work_big/users/zappa/TRANSLATE/HydroBasins/hybas_lake_eu_lev01-12_v1c/\"\n",
    "level=\"07\"\n",
    "shape_dir=\"/work_big/users/zappa/TRANSLATE/HydroBasins/hybas_lake_eu_lev01-12_v1c/\"\n",
    "shapef_path = os.path.join(shape_dir,f\"hybas_lake_eu_lev{level}_v1c.shp\")\n",
    "shape_gdf = gpd.read_file(shapef_path)"
   ]
  },
  {
   "cell_type": "markdown",
   "metadata": {},
   "source": [
    "### Select watershed of interest"
   ]
  },
  {
   "cell_type": "code",
   "execution_count": 23,
   "metadata": {},
   "outputs": [],
   "source": [
    "# grid point of river point to be anlaysed (here Panaro near Modena)\n",
    "tlat=44.65\n",
    "tlon=10.99\n",
    "point = Point(tlon, tlat)\n",
    "\n",
    "contains_point = shape_gdf['geometry'].contains(point)\n",
    "\n",
    "# extract entry of shapefile that contains the point\n",
    "shape_basin_gdf = shape_gdf[contains_point]\n"
   ]
  },
  {
   "cell_type": "code",
   "execution_count": 24,
   "metadata": {},
   "outputs": [],
   "source": [
    "# Assuming 'ds' is your xarray Dataset and 'gdf' is your GeoDataFrame\n",
    "basin_geometry = shape_basin_gdf['geometry'].values\n",
    "\n",
    "# Assuming 'ds' is your xarray Dataset and 'shape_basin_gdf' is your GeoDataFrame\n",
    "ds.rio.set_spatial_dims(x_dim=\"lon\", y_dim=\"lat\", inplace=True)\n",
    "ds.rio.write_crs(\"epsg:4326\", inplace=True)\n",
    "\n",
    "# Create a mask where True values represent points outside the shapefile\n",
    "mask = geometry_mask([geom for geom in basin_geometry ],\n",
    "                     out_shape=(ds.sizes['lat'], ds.sizes['lon']),\n",
    "                     transform=ds.rio.transform(),\n",
    "                     invert=True)\n",
    "\n",
    "\n",
    "# Apply the mask to the dataset\n",
    "#print(mask.shape)\n",
    "#print(ds['dis06'].shape)\n",
    "ds_masked = ds['dis06'].where(mask)\n",
    "\n"
   ]
  },
  {
   "cell_type": "code",
   "execution_count": 25,
   "metadata": {},
   "outputs": [
    {
     "data": {
      "image/png": "[encoded data removed]",
      "text/plain": [
       "<Figure size 1000x600 with 2 Axes>"
      ]
     },
     "metadata": {},
     "output_type": "display_data"
    }
   ],
   "source": [
    "var=ds_masked.isel(time=0)\n",
    "\n",
    "# Create a figure and axes with a geographic projection\n",
    "fig = plt.figure(figsize=(10, 6))\n",
    "ax = plt.axes(projection=ccrs.PlateCarree())\n",
    "\n",
    "# Plot the variable\n",
    "var.plot(ax=ax, transform=ccrs.PlateCarree(), cmap='viridis', vmin=0, vmax=10)\n",
    "plt.xlim(10, 12)\n",
    "plt.ylim(44, 45)\n",
    "\n",
    "# Add coastlines\n",
    "ax.coastlines()\n",
    "\n",
    "# Show the plot\n",
    "plt.show()"
   ]
  },
  {
   "cell_type": "code",
   "execution_count": 26,
   "metadata": {},
   "outputs": [],
   "source": [
    "#identify grid points where_ds_masked is above 100 and set them to 0\n",
    "ds_masked=ds_masked.where(ds_masked<100,0)"
   ]
  },
  {
   "cell_type": "markdown",
   "metadata": {},
   "source": [
    "# set grid points where "
   ]
  },
  {
   "cell_type": "code",
   "execution_count": 28,
   "metadata": {},
   "outputs": [],
   "source": [
    "# identify grid\n",
    "ds_masked.to_netcdf(\"test.nc\")"
   ]
  },
  {
   "cell_type": "code",
   "execution_count": null,
   "metadata": {},
   "outputs": [],
   "source": []
  }
 ],
 "metadata": {
  "kernelspec": {
   "display_name": "base",
   "language": "python",
   "name": "python3"
  },
  "language_info": {
   "codemirror_mode": {
    "name": "ipython",
    "version": 3
   },
   "file_extension": ".py",
   "mimetype": "text/x-python",
   "name": "python",
   "nbconvert_exporter": "python",
   "pygments_lexer": "ipython3",
   "version": "3.10.13"
  }
 },
 "nbformat": 4,
 "nbformat_minor": 2
}
